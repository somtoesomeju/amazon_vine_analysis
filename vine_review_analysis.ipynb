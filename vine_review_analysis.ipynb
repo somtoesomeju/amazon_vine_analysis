{
 "cells": [
  {
   "cell_type": "code",
   "execution_count": null,
   "metadata": {
    "id": "QB_tVfHwZeu0"
   },
   "outputs": [],
   "source": []
  },
  {
   "cell_type": "code",
   "execution_count": null,
   "metadata": {
    "colab": {
     "base_uri": "https://localhost:8080/"
    },
    "id": "V58rxea0HqSa",
    "outputId": "87ac2d6e-255a-4ef2-bad0-e55d270c5f48"
   },
   "outputs": [
    {
     "name": "stdout",
     "output_type": "stream",
     "text": [
      "\r",
      "0% [Working]\r",
      "            \r",
      "Hit:1 http://security.ubuntu.com/ubuntu bionic-security InRelease\n",
      "\r",
      "0% [Connecting to archive.ubuntu.com (91.189.88.152)] [Waiting for headers] [Co\r",
      "                                                                               \r",
      "Hit:2 https://cloud.r-project.org/bin/linux/ubuntu bionic-cran40/ InRelease\n",
      "\r",
      "0% [Connecting to archive.ubuntu.com (91.189.88.152)] [Connecting to ppa.launch\r",
      "0% [1 InRelease gpgv 88.7 kB] [Connecting to archive.ubuntu.com (91.189.88.152)\r",
      "                                                                               \r",
      "Ign:3 https://developer.download.nvidia.com/compute/cuda/repos/ubuntu1804/x86_64  InRelease\n",
      "\r",
      "                                                                               \r",
      "0% [1 InRelease gpgv 88.7 kB] [Waiting for headers] [Waiting for headers]\r",
      "                                                                         \r",
      "Hit:4 http://ppa.launchpad.net/c2d4u.team/c2d4u4.0+/ubuntu bionic InRelease\n",
      "Hit:5 http://archive.ubuntu.com/ubuntu bionic InRelease\n",
      "Ign:6 https://developer.download.nvidia.com/compute/machine-learning/repos/ubuntu1804/x86_64  InRelease\n",
      "Hit:7 https://developer.download.nvidia.com/compute/cuda/repos/ubuntu1804/x86_64  Release\n",
      "Hit:8 https://developer.download.nvidia.com/compute/machine-learning/repos/ubuntu1804/x86_64  Release\n",
      "Hit:9 http://archive.ubuntu.com/ubuntu bionic-updates InRelease\n",
      "Hit:10 http://ppa.launchpad.net/cran/libgit2/ubuntu bionic InRelease\n",
      "Hit:11 http://archive.ubuntu.com/ubuntu bionic-backports InRelease\n",
      "Hit:12 http://ppa.launchpad.net/deadsnakes/ppa/ubuntu bionic InRelease\n",
      "Hit:13 http://ppa.launchpad.net/graphics-drivers/ppa/ubuntu bionic InRelease\n",
      "Reading package lists... Done\n"
     ]
    }
   ],
   "source": [
    "import os\n",
    "# Find the latest version of spark 3.0 from http://www.apache.org/dist/spark/ and enter as the spark version\n",
    "# For example:\n",
    "# spark_version = 'spark-3.0.3'\n",
    "spark_version = 'spark-3.0.3'\n",
    "os.environ['SPARK_VERSION']=spark_version\n",
    "\n",
    "# Install Spark and Java\n",
    "!apt-get update\n",
    "!apt-get install openjdk-11-jdk-headless -qq > /dev/null\n",
    "!wget -q http://www.apache.org/dist/spark/$SPARK_VERSION/$SPARK_VERSION-bin-hadoop2.7.tgz\n",
    "!tar xf $SPARK_VERSION-bin-hadoop2.7.tgz\n",
    "!pip install -q findspark\n",
    "\n",
    "# Set Environment Variables\n",
    "import os\n",
    "os.environ[\"JAVA_HOME\"] = \"/usr/lib/jvm/java-11-openjdk-amd64\"\n",
    "os.environ[\"SPARK_HOME\"] = f\"/content/{spark_version}-bin-hadoop2.7\"\n",
    "\n",
    "# Start a SparkSession\n",
    "import findspark\n",
    "findspark.init()"
   ]
  },
  {
   "cell_type": "code",
   "execution_count": null,
   "metadata": {
    "colab": {
     "base_uri": "https://localhost:8080/"
    },
    "id": "GQ9gQwvXaeki",
    "outputId": "b8b9b86b-0abc-4b3f-a8cb-cd3ab1f10265"
   },
   "outputs": [
    {
     "name": "stdout",
     "output_type": "stream",
     "text": [
      "--2021-10-17 18:06:37--  https://jdbc.postgresql.org/download/postgresql-42.2.16.jar\n",
      "Resolving jdbc.postgresql.org (jdbc.postgresql.org)... 72.32.157.228, 2001:4800:3e1:1::228\n",
      "Connecting to jdbc.postgresql.org (jdbc.postgresql.org)|72.32.157.228|:443... connected.\n",
      "HTTP request sent, awaiting response... 200 OK\n",
      "Length: 1002883 (979K) [application/java-archive]\n",
      "Saving to: ‘postgresql-42.2.16.jar’\n",
      "\n",
      "postgresql-42.2.16. 100%[===================>] 979.38K  5.58MB/s    in 0.2s    \n",
      "\n",
      "2021-10-17 18:06:38 (5.58 MB/s) - ‘postgresql-42.2.16.jar’ saved [1002883/1002883]\n",
      "\n"
     ]
    }
   ],
   "source": [
    "# Download the Postgres driver that will allow Spark to interact with Postgres.\n",
    "!wget https://jdbc.postgresql.org/download/postgresql-42.2.16.jar"
   ]
  },
  {
   "cell_type": "code",
   "execution_count": null,
   "metadata": {
    "id": "MMqDAjVS0KN9"
   },
   "outputs": [],
   "source": [
    "from pyspark.sql import SparkSession\n",
    "spark = SparkSession.builder.appName(\"M16-Amazon-Challenge\").config(\"spark.driver.extraClassPath\",\"/content/postgresql-42.2.16.jar\").getOrCreate()"
   ]
  },
  {
   "cell_type": "code",
   "execution_count": null,
   "metadata": {
    "id": "6lkYtERwcav5"
   },
   "outputs": [],
   "source": [
    "from pyspark import SparkFiles\n",
    "url = \"https://s3.amazonaws.com/amazon-reviews-pds/tsv/amazon_reviews_us_Watches_v1_00.tsv.gz\"\n",
    "spark.sparkContext.addFile(url)\n",
    "df = spark.read.option(\"encoding\", \"UTF-8\").csv(SparkFiles.get(\"\"), sep=\"\\t\", header=True, inferSchema=True)\n"
   ]
  },
  {
   "cell_type": "code",
   "execution_count": null,
   "metadata": {
    "id": "CtCmBhQJY-9Z"
   },
   "outputs": [],
   "source": [
    "from pyspark.sql.functions import to_date\n",
    "# Read in the Review dataset as a DataFrame\n",
    "vine_reviews_clean_df = df.dropna()"
   ]
  },
  {
   "cell_type": "code",
   "execution_count": null,
   "metadata": {
    "colab": {
     "base_uri": "https://localhost:8080/"
    },
    "id": "J7J5m56Wc-_F",
    "outputId": "56df53fe-a5f3-4885-db02-283c118e4929"
   },
   "outputs": [
    {
     "name": "stdout",
     "output_type": "stream",
     "text": [
      "+--------------+-----------+-------------+-----------+----+-----------------+\n",
      "|     review_id|star_rating|helpful_votes|total_votes|vine|verified_purchase|\n",
      "+--------------+-----------+-------------+-----------+----+-----------------+\n",
      "|R3O9SGZBVQBV76|          5|            0|          0|   N|                Y|\n",
      "| RKH8BNC3L5DLF|          5|            0|          0|   N|                Y|\n",
      "|R2HLE8WKZSU3NL|          2|            1|          1|   N|                Y|\n",
      "|R31U3UH5AZ42LL|          5|            0|          0|   N|                Y|\n",
      "|R2SV659OUJ945Y|          4|            0|          0|   N|                Y|\n",
      "| RA51CP8TR5A2L|          5|            0|          0|   N|                Y|\n",
      "| RB2Q7DLDN6TH6|          5|            1|          1|   N|                Y|\n",
      "|R2RHFJV0UYBK3Y|          1|            1|          5|   N|                N|\n",
      "|R2Z6JOQ94LFHEP|          5|            1|          2|   N|                Y|\n",
      "| RX27XIIWY5JPB|          4|            0|          0|   N|                Y|\n",
      "|R15C7QEZT0LGZN|          4|            2|          2|   N|                Y|\n",
      "|R361XSS37V0NCZ|          1|            0|          0|   N|                N|\n",
      "| ROTNLALUAJAUB|          3|            0|          0|   N|                Y|\n",
      "|R2DYX7QU6BGOHR|          5|            0|          0|   N|                Y|\n",
      "| RWASY7FKI7QOT|          5|            2|          3|   N|                Y|\n",
      "|R2KKYZIN3CCL21|          5|            0|          0|   N|                Y|\n",
      "|R22H4FGVD5O52O|          4|            1|          1|   N|                Y|\n",
      "|R11UACZERCM4ZY|          5|            0|          0|   N|                Y|\n",
      "|R1AT8NQ38UQOL6|          5|            0|          0|   N|                Y|\n",
      "|R2NCZRQGIF1Q75|          4|            0|          0|   N|                Y|\n",
      "+--------------+-----------+-------------+-----------+----+-----------------+\n",
      "only showing top 20 rows\n",
      "\n"
     ]
    }
   ],
   "source": [
    "# Create the vine_table DataFrame\n",
    "vine_new = vine_reviews_clean_df.select([\"review_id\",\"star_rating\",\"helpful_votes\",\"total_votes\",\"vine\",\"verified_purchase\"])\n",
    "vine_new.show()"
   ]
  },
  {
   "cell_type": "code",
   "execution_count": null,
   "metadata": {
    "colab": {
     "base_uri": "https://localhost:8080/"
    },
    "id": "B4ZScMX1dDNr",
    "outputId": "e9e10634-c889-47af-87e0-e8a9c14eb769"
   },
   "outputs": [
    {
     "name": "stdout",
     "output_type": "stream",
     "text": [
      "+--------------+-----------+-------------+-----------+----+-----------------+\n",
      "|     review_id|star_rating|helpful_votes|total_votes|vine|verified_purchase|\n",
      "+--------------+-----------+-------------+-----------+----+-----------------+\n",
      "|R14W2VCHHK5V7W|          5|           19|         20|   N|                Y|\n",
      "|R1S3T57O3OYT5S|          5|           19|         20|   N|                Y|\n",
      "|R1BTWIBLYYVOV7|          5|           30|         30|   N|                Y|\n",
      "| R6F9VY91ADPLA|          1|            8|         30|   N|                N|\n",
      "|R3PXNV89DFIXKV|          5|           35|         37|   N|                Y|\n",
      "|R2ZF9NYVT3J7D6|          5|           19|         22|   N|                Y|\n",
      "|R20NYA5V0UF9NE|          5|           27|         28|   N|                Y|\n",
      "|R2X8FZRUOS8R8C|          4|           25|         26|   N|                Y|\n",
      "|R2D8IMBVX3XCLF|          1|           14|         20|   N|                Y|\n",
      "|R25UD9TA63L3Q8|          5|           25|         27|   N|                Y|\n",
      "|R2RB1HML8N712P|          5|           26|         28|   N|                Y|\n",
      "| ROXA8XP5EI2KK|          5|           48|         49|   N|                N|\n",
      "|R149IHTGGSRGX9|          5|           19|         20|   N|                Y|\n",
      "|R1B7M0OP3UNP6O|          5|           49|         52|   Y|                N|\n",
      "|R2N92CUM7WBA1A|          5|           27|         28|   N|                Y|\n",
      "|R2TAFZNG4KHFQB|          4|           24|         24|   N|                Y|\n",
      "| RNRFACS48ZE4A|          5|           21|         21|   N|                Y|\n",
      "|R2PO5QTLXJ9LHG|          5|           33|         46|   N|                N|\n",
      "|R38KDT041DRMIN|          5|           19|         24|   N|                Y|\n",
      "|R2MNPDWCA42I4G|          1|           17|         20|   N|                N|\n",
      "+--------------+-----------+-------------+-----------+----+-----------------+\n",
      "only showing top 20 rows\n",
      "\n"
     ]
    }
   ],
   "source": [
    "# Filtered for more than 20 total votes\n",
    "vine_filtered_df = vine_new.filter(\"total_votes>=20\")\n",
    "vine_filtered_df.show()"
   ]
  },
  {
   "cell_type": "code",
   "execution_count": null,
   "metadata": {
    "colab": {
     "base_uri": "https://localhost:8080/"
    },
    "id": "qIxk7C6Jdjdi",
    "outputId": "faf3981b-439e-41f8-a5c9-e361f2f43535"
   },
   "outputs": [
    {
     "name": "stdout",
     "output_type": "stream",
     "text": [
      "+--------------+-----------+-------------+-----------+----+-----------------+\n",
      "|     review_id|star_rating|helpful_votes|total_votes|vine|verified_purchase|\n",
      "+--------------+-----------+-------------+-----------+----+-----------------+\n",
      "|R14W2VCHHK5V7W|          5|           19|         20|   N|                Y|\n",
      "|R1S3T57O3OYT5S|          5|           19|         20|   N|                Y|\n",
      "|R1BTWIBLYYVOV7|          5|           30|         30|   N|                Y|\n",
      "|R3PXNV89DFIXKV|          5|           35|         37|   N|                Y|\n",
      "|R2ZF9NYVT3J7D6|          5|           19|         22|   N|                Y|\n",
      "|R20NYA5V0UF9NE|          5|           27|         28|   N|                Y|\n",
      "|R2X8FZRUOS8R8C|          4|           25|         26|   N|                Y|\n",
      "|R2D8IMBVX3XCLF|          1|           14|         20|   N|                Y|\n",
      "|R25UD9TA63L3Q8|          5|           25|         27|   N|                Y|\n",
      "|R2RB1HML8N712P|          5|           26|         28|   N|                Y|\n",
      "| ROXA8XP5EI2KK|          5|           48|         49|   N|                N|\n",
      "|R149IHTGGSRGX9|          5|           19|         20|   N|                Y|\n",
      "|R1B7M0OP3UNP6O|          5|           49|         52|   Y|                N|\n",
      "|R2N92CUM7WBA1A|          5|           27|         28|   N|                Y|\n",
      "|R2TAFZNG4KHFQB|          4|           24|         24|   N|                Y|\n",
      "| RNRFACS48ZE4A|          5|           21|         21|   N|                Y|\n",
      "|R2PO5QTLXJ9LHG|          5|           33|         46|   N|                N|\n",
      "|R38KDT041DRMIN|          5|           19|         24|   N|                Y|\n",
      "|R2MNPDWCA42I4G|          1|           17|         20|   N|                N|\n",
      "|R3F3KMKY26K620|          4|           25|         26|   N|                Y|\n",
      "+--------------+-----------+-------------+-----------+----+-----------------+\n",
      "only showing top 20 rows\n",
      "\n"
     ]
    }
   ],
   "source": [
    "# Filtered for more than 20 total votes, and more than 50% helpful\n",
    "vine_helpful_votes_df = vine_filtered_df.filter(\"(helpful_votes/total_votes)>=0.5\")\n",
    "vine_helpful_votes_df.show()"
   ]
  },
  {
   "cell_type": "code",
   "execution_count": null,
   "metadata": {
    "colab": {
     "base_uri": "https://localhost:8080/"
    },
    "id": "5ZXfMy_fd5Q-",
    "outputId": "87612db4-4013-4a39-dcb7-36564da860bb"
   },
   "outputs": [
    {
     "name": "stdout",
     "output_type": "stream",
     "text": [
      "+--------------+-----------+-------------+-----------+----+-----------------+\n",
      "|     review_id|star_rating|helpful_votes|total_votes|vine|verified_purchase|\n",
      "+--------------+-----------+-------------+-----------+----+-----------------+\n",
      "|R1B7M0OP3UNP6O|          5|           49|         52|   Y|                N|\n",
      "|R2UUV4UGGYMQG8|          5|           34|         39|   Y|                N|\n",
      "| R9K0LZV2BK9YY|          4|           37|         39|   Y|                N|\n",
      "|R2OVFLNEUEGTJM|          3|           18|         25|   Y|                N|\n",
      "| RBE09ELJ77LQ0|          5|           44|         45|   Y|                N|\n",
      "|R3867T8AIJJHM6|          5|           26|         27|   Y|                N|\n",
      "|R1FNVUXPU63WOZ|          4|           43|         48|   Y|                N|\n",
      "|R25XGG2G12SE1Z|          4|           20|         23|   Y|                N|\n",
      "| R3JKU4HRDFZDH|          4|           27|         30|   Y|                N|\n",
      "|R2PQYOCJXRB1BF|          5|           26|         28|   Y|                N|\n",
      "|R1JBQ8UBLA8N4X|          4|          349|        370|   Y|                N|\n",
      "|R2I01ZYMO0GYP1|          4|          107|        121|   Y|                N|\n",
      "|R297GF8EF7AXPO|          2|           22|         30|   Y|                N|\n",
      "|R2OFG89WKPLHGU|          5|           54|         60|   Y|                N|\n",
      "|R13PI8O4697CEV|          4|          135|        144|   Y|                N|\n",
      "|R223MX62JYWUOY|          4|           20|         21|   Y|                N|\n",
      "| RTSXZ0HZF623M|          3|           13|         22|   Y|                N|\n",
      "|R1OB4GCKEYGV9I|          4|           61|         90|   Y|                N|\n",
      "|R1YBNRRUD5WCG4|          5|           15|         20|   Y|                N|\n",
      "|R3L4Z6NK2Z4OV5|          2|           24|         33|   Y|                N|\n",
      "+--------------+-----------+-------------+-----------+----+-----------------+\n",
      "only showing top 20 rows\n",
      "\n"
     ]
    }
   ],
   "source": [
    "# Filtered for paid reviews, more than 50% helpful\n",
    "vine_paid_helpful_df = vine_helpful_votes_df.filter(\"vine == 'Y'\")\n",
    "vine_paid_helpful_df.show()"
   ]
  },
  {
   "cell_type": "code",
   "execution_count": null,
   "metadata": {
    "colab": {
     "base_uri": "https://localhost:8080/"
    },
    "id": "DvFhKIbBeF3-",
    "outputId": "1c88dc4b-b7f2-4dcd-86f7-ab9233e39877"
   },
   "outputs": [
    {
     "name": "stdout",
     "output_type": "stream",
     "text": [
      "+--------------+-----------+-------------+-----------+----+-----------------+\n",
      "|     review_id|star_rating|helpful_votes|total_votes|vine|verified_purchase|\n",
      "+--------------+-----------+-------------+-----------+----+-----------------+\n",
      "|R14W2VCHHK5V7W|          5|           19|         20|   N|                Y|\n",
      "|R1S3T57O3OYT5S|          5|           19|         20|   N|                Y|\n",
      "|R1BTWIBLYYVOV7|          5|           30|         30|   N|                Y|\n",
      "|R3PXNV89DFIXKV|          5|           35|         37|   N|                Y|\n",
      "|R2ZF9NYVT3J7D6|          5|           19|         22|   N|                Y|\n",
      "|R20NYA5V0UF9NE|          5|           27|         28|   N|                Y|\n",
      "|R2X8FZRUOS8R8C|          4|           25|         26|   N|                Y|\n",
      "|R2D8IMBVX3XCLF|          1|           14|         20|   N|                Y|\n",
      "|R25UD9TA63L3Q8|          5|           25|         27|   N|                Y|\n",
      "|R2RB1HML8N712P|          5|           26|         28|   N|                Y|\n",
      "| ROXA8XP5EI2KK|          5|           48|         49|   N|                N|\n",
      "|R149IHTGGSRGX9|          5|           19|         20|   N|                Y|\n",
      "|R2N92CUM7WBA1A|          5|           27|         28|   N|                Y|\n",
      "|R2TAFZNG4KHFQB|          4|           24|         24|   N|                Y|\n",
      "| RNRFACS48ZE4A|          5|           21|         21|   N|                Y|\n",
      "|R2PO5QTLXJ9LHG|          5|           33|         46|   N|                N|\n",
      "|R38KDT041DRMIN|          5|           19|         24|   N|                Y|\n",
      "|R2MNPDWCA42I4G|          1|           17|         20|   N|                N|\n",
      "|R3F3KMKY26K620|          4|           25|         26|   N|                Y|\n",
      "|R2PU32HT6X9DOM|          5|           23|         24|   N|                Y|\n",
      "+--------------+-----------+-------------+-----------+----+-----------------+\n",
      "only showing top 20 rows\n",
      "\n"
     ]
    }
   ],
   "source": [
    "# Filtered for non-paid reviews, more than 50% helpful\n",
    "vine_unpaid_helpful_df = vine_helpful_votes_df.filter(\"vine == 'N'\")\n",
    "vine_unpaid_helpful_df.show()"
   ]
  },
  {
   "cell_type": "code",
   "execution_count": null,
   "metadata": {
    "colab": {
     "base_uri": "https://localhost:8080/"
    },
    "id": "0Ujv8WZreZ_r",
    "outputId": "3fda7835-12d2-4df1-a84a-4acb9be2cad3"
   },
   "outputs": [
    {
     "data": {
      "text/plain": [
       "8390"
      ]
     },
     "execution_count": 14,
     "metadata": {},
     "output_type": "execute_result"
    }
   ],
   "source": [
    "# Total number of reviews\n",
    "total_reviews_ct = vine_helpful_votes_df.count()\n",
    "total_reviews_ct"
   ]
  },
  {
   "cell_type": "code",
   "execution_count": null,
   "metadata": {
    "colab": {
     "base_uri": "https://localhost:8080/"
    },
    "id": "pKXlAh7PeqY2",
    "outputId": "e9fcc034-efe4-41c3-af3b-3bda14ea5400"
   },
   "outputs": [
    {
     "data": {
      "text/plain": [
       "47"
      ]
     },
     "execution_count": 15,
     "metadata": {},
     "output_type": "execute_result"
    }
   ],
   "source": [
    "# Total paid reviews\n",
    "total_paid_reviews_df = vine_helpful_votes_df.filter(\"vine =='Y'\")\n",
    "total_paid_reviews_ct = total_paid_reviews_df.count()\n",
    "total_paid_reviews_ct"
   ]
  },
  {
   "cell_type": "code",
   "execution_count": null,
   "metadata": {
    "colab": {
     "base_uri": "https://localhost:8080/"
    },
    "id": "PGysTNMte-5k",
    "outputId": "29f426c3-2351-4eee-fd65-2d337809918b"
   },
   "outputs": [
    {
     "data": {
      "text/plain": [
       "8343"
      ]
     },
     "execution_count": 16,
     "metadata": {},
     "output_type": "execute_result"
    }
   ],
   "source": [
    "# Total unpaid reviews\n",
    "total_unpaid_reviews_df = vine_helpful_votes_df.filter(\"vine =='N'\")\n",
    "total_unpaid_reviews_ct = total_unpaid_reviews_df.count()\n",
    "total_unpaid_reviews_ct"
   ]
  },
  {
   "cell_type": "code",
   "execution_count": null,
   "metadata": {
    "colab": {
     "base_uri": "https://localhost:8080/"
    },
    "id": "f7cTvWqXfGlm",
    "outputId": "67f77a28-bd37-47f1-9975-c959bf80f10b"
   },
   "outputs": [
    {
     "data": {
      "text/plain": [
       "4333"
      ]
     },
     "execution_count": 17,
     "metadata": {},
     "output_type": "execute_result"
    }
   ],
   "source": [
    "# Total five-star reviews\n",
    "total_five_star_reviews_df = vine_helpful_votes_df.filter(\"star_rating == 5\")\n",
    "total_five_star_reviews_ct = total_five_star_reviews_df.count()\n",
    "total_five_star_reviews_ct"
   ]
  },
  {
   "cell_type": "code",
   "execution_count": null,
   "metadata": {
    "colab": {
     "base_uri": "https://localhost:8080/"
    },
    "id": "15TuZbS0fPox",
    "outputId": "06db5d25-5f2f-4a2b-cf9a-99b0e9532ca4"
   },
   "outputs": [
    {
     "data": {
      "text/plain": [
       "15"
      ]
     },
     "execution_count": 18,
     "metadata": {},
     "output_type": "execute_result"
    }
   ],
   "source": [
    "# Total five-star paid reviews\n",
    "five_star_paid_reviews_df = total_paid_reviews_df.filter(\"star_rating == 5\")\n",
    "five_star_paid_reviews_ct = five_star_paid_reviews_df.count()\n",
    "five_star_paid_reviews_ct"
   ]
  },
  {
   "cell_type": "code",
   "execution_count": null,
   "metadata": {
    "colab": {
     "base_uri": "https://localhost:8080/"
    },
    "id": "wMhgYkfsfY3U",
    "outputId": "8193132d-9013-44ea-bea5-158b5960a1fe"
   },
   "outputs": [
    {
     "data": {
      "text/plain": [
       "4025"
      ]
     },
     "execution_count": 19,
     "metadata": {},
     "output_type": "execute_result"
    }
   ],
   "source": [
    "# Total five-star unpaid reviews\n",
    "five_star_unpaid_reviews_df = total_unpaid_reviews_df.filter(\"star_rating < 5\")\n",
    "five_star_unpaid_reviews_ct = five_star_unpaid_reviews_df.count()\n",
    "five_star_unpaid_reviews_ct"
   ]
  },
  {
   "cell_type": "code",
   "execution_count": null,
   "metadata": {
    "colab": {
     "base_uri": "https://localhost:8080/"
    },
    "id": "sEpO0jzof1Om",
    "outputId": "bc6dc662-e68a-4b8a-de6e-65cfd920be76"
   },
   "outputs": [
    {
     "data": {
      "text/plain": [
       "31.915"
      ]
     },
     "execution_count": 20,
     "metadata": {},
     "output_type": "execute_result"
    }
   ],
   "source": [
    "# Five-star paid reviews as percent of total paid reviews\n",
    "paid_five_star_per_total_paid = (five_star_paid_reviews_ct/total_paid_reviews_ct)*100\n",
    "round(paid_five_star_per_total_paid, 3)"
   ]
  },
  {
   "cell_type": "code",
   "execution_count": null,
   "metadata": {
    "colab": {
     "base_uri": "https://localhost:8080/"
    },
    "id": "w56lgMYmf8Vc",
    "outputId": "3f7ff873-fed0-4513-ec91-2ac02cf957b4"
   },
   "outputs": [],
   "source": []
  },
  {
   "cell_type": "code",
   "execution_count": null,
   "metadata": {
    "colab": {
     "base_uri": "https://localhost:8080/"
    },
    "id": "GXlXoI2ZgBUn",
    "outputId": "29608efd-4372-48b1-ad8c-8c6e6013703f"
   },
   "outputs": [
    {
     "data": {
      "text/plain": [
       "48.244"
      ]
     },
     "execution_count": 22,
     "metadata": {},
     "output_type": "execute_result"
    }
   ],
   "source": [
    "# Five-star unpaid reviews as percent of total unpaid reviews\n",
    "unpaid_five_star_per_total_unpaid = (five_star_unpaid_reviews_ct/total_unpaid_reviews_ct)*100\n",
    "round(unpaid_five_star_per_total_unpaid, 3)"
   ]
  },
  {
   "cell_type": "code",
   "execution_count": null,
   "metadata": {
    "colab": {
     "base_uri": "https://localhost:8080/"
    },
    "id": "FiTwNmb5gFqL",
    "outputId": "043502c6-9399-4861-f2cb-92e81039eb67"
   },
   "outputs": [],
   "source": []
  },
  {
   "cell_type": "code",
   "execution_count": null,
   "metadata": {},
   "outputs": [],
   "source": []
  }
 ],
 "metadata": {
  "colab": {
   "collapsed_sections": [],
   "name": "vine_review_analysis.ipynb",
   "provenance": []
  },
  "kernelspec": {
   "display_name": "Python 3",
   "language": "python",
   "name": "python3"
  },
  "language_info": {
   "codemirror_mode": {
    "name": "ipython",
    "version": 3
   },
   "file_extension": ".py",
   "mimetype": "text/x-python",
   "name": "python",
   "nbconvert_exporter": "python",
   "pygments_lexer": "ipython3",
   "version": "3.8.8"
  }
 },
 "nbformat": 4,
 "nbformat_minor": 1
}
